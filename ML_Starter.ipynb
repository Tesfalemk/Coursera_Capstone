{
  "nbformat": 4,
  "nbformat_minor": 0,
  "metadata": {
    "colab": {
      "name": "ML Starter.ipynb",
      "provenance": [],
      "collapsed_sections": [],
      "mount_file_id": "1K5m_rpr1razUjKJb1Mdy2bdCpKCgjcrV",
      "authorship_tag": "ABX9TyNuVoVcoR0ShWDRvLdcfCKc",
      "include_colab_link": true
    },
    "kernelspec": {
      "name": "python3",
      "display_name": "Python 3"
    },
    "language_info": {
      "name": "python"
    }
  },
  "cells": [
    {
      "cell_type": "markdown",
      "metadata": {
        "id": "view-in-github",
        "colab_type": "text"
      },
      "source": [
        "<a href=\"https://colab.research.google.com/github/Tesfalemk/Coursera_Capstone/blob/master/ML_Starter.ipynb\" target=\"_parent\"><img src=\"https://colab.research.google.com/assets/colab-badge.svg\" alt=\"Open In Colab\"/></a>"
      ]
    },
    {
      "cell_type": "code",
      "execution_count": null,
      "metadata": {
        "colab": {
          "base_uri": "https://localhost:8080/"
        },
        "id": "Upyi9WtAekez",
        "outputId": "6d31c048-1e57-407a-d1f7-630d33145ef0"
      },
      "outputs": [
        {
          "output_type": "stream",
          "name": "stdout",
          "text": [
            "89.76923076923077\n"
          ]
        }
      ],
      "source": [
        "#Mean\n",
        "import numpy\n",
        "\n",
        "speed = [99,86,87,88,111,86,103,87,94,78,77,85,86]\n",
        "\n",
        "x = numpy.mean(speed)\n",
        "\n",
        "print(x)\n",
        "import numpy"
      ]
    },
    {
      "cell_type": "code",
      "source": [
        "#Mode\n",
        "from scipy import stats\n",
        "\n",
        "speed = [99,86,87,88,111,86,103,87,94,78,77,85,86]\n",
        "\n",
        "x = stats.mode(speed)\n",
        "\n",
        "print(x)"
      ],
      "metadata": {
        "colab": {
          "base_uri": "https://localhost:8080/"
        },
        "id": "BReJCp4ojpTA",
        "outputId": "b082d016-8fec-4866-c1c8-6f984026747c"
      },
      "execution_count": null,
      "outputs": [
        {
          "output_type": "stream",
          "name": "stdout",
          "text": [
            "ModeResult(mode=array([86]), count=array([3]))\n"
          ]
        }
      ]
    },
    {
      "cell_type": "code",
      "source": [
        "#Standard Deviation\n",
        "import numpy\n",
        "\n",
        "speed = [86,87,88,86,87,85,86]\n",
        "\n",
        "x = numpy.std(speed)\n",
        "\n",
        "print(x)"
      ],
      "metadata": {
        "colab": {
          "base_uri": "https://localhost:8080/"
        },
        "id": "YQu9lboMj0DD",
        "outputId": "8e61735a-bb46-47ac-9178-2abdbda04643"
      },
      "execution_count": null,
      "outputs": [
        {
          "output_type": "stream",
          "name": "stdout",
          "text": [
            "0.9035079029052513\n"
          ]
        }
      ]
    },
    {
      "cell_type": "code",
      "source": [
        "#Variance\n",
        "import numpy\n",
        "\n",
        "speed = [32,111,138,28,59,77,97]\n",
        "\n",
        "x = numpy.var(speed)\n",
        "\n",
        "print(x)"
      ],
      "metadata": {
        "colab": {
          "base_uri": "https://localhost:8080/"
        },
        "id": "ZyR7Z7zckjIt",
        "outputId": "41a8152c-67ad-4746-aedd-60556a42aa4f"
      },
      "execution_count": null,
      "outputs": [
        {
          "output_type": "stream",
          "name": "stdout",
          "text": [
            "1432.2448979591834\n"
          ]
        }
      ]
    },
    {
      "cell_type": "code",
      "source": [
        "#Percentiles\n",
        "import numpy\n",
        "\n",
        "ages = [5,31,43,48,50,41,7,11,15,39,80,82,32,2,8,6,25,36,27,61,31]\n",
        "\n",
        "x = numpy.percentile(ages, 75)\n",
        "\n",
        "print(x)"
      ],
      "metadata": {
        "colab": {
          "base_uri": "https://localhost:8080/"
        },
        "id": "_3350vU6kyNJ",
        "outputId": "2475e0bd-42e7-450c-9a99-3bb3e3bfaa2f"
      },
      "execution_count": null,
      "outputs": [
        {
          "output_type": "stream",
          "name": "stdout",
          "text": [
            "43.0\n"
          ]
        }
      ]
    },
    {
      "cell_type": "code",
      "source": [
        "#Data Distribution\n",
        "import numpy\n",
        "\n",
        "x = numpy.random.uniform(0.0, 5.0, 250)\n",
        "\n",
        "print(x)"
      ],
      "metadata": {
        "colab": {
          "base_uri": "https://localhost:8080/"
        },
        "id": "eVB7mnSllCHH",
        "outputId": "be0c8d8a-c664-4067-fad0-f9c15295fe7f"
      },
      "execution_count": null,
      "outputs": [
        {
          "output_type": "stream",
          "name": "stdout",
          "text": [
            "[0.3709097  4.84666677 0.82541897 3.41681986 0.49404786 3.796805\n",
            " 3.67176738 1.83666461 1.2384194  0.40210164 2.54912875 2.39952022\n",
            " 0.43145765 3.9079042  1.30146184 4.85921365 1.80312372 0.42551478\n",
            " 4.82943555 1.23181005 3.75974963 2.87986086 4.23298872 2.41961799\n",
            " 4.5679427  3.04268763 3.07159459 1.41890648 3.25796666 2.50901805\n",
            " 4.62469558 3.55832992 4.40154223 2.03026111 0.04975049 1.91192957\n",
            " 0.49159376 3.12869449 0.62461696 0.94804494 3.25584866 0.43624329\n",
            " 4.51765263 1.00671589 3.91968088 0.57909843 0.37163038 4.76934104\n",
            " 4.19162102 3.54076126 3.56097815 2.5335362  1.82873346 3.91227472\n",
            " 3.35853382 2.83335587 3.8414341  1.5275977  1.34873884 1.19658651\n",
            " 2.89116581 0.08513469 4.61868534 4.03062509 2.29974983 3.01645521\n",
            " 3.14027066 3.94837605 0.76834644 0.84607253 4.13969665 4.08407944\n",
            " 0.12917591 4.75543145 3.97475263 1.95321526 4.08593292 3.71980881\n",
            " 0.07369844 2.53261038 2.8699639  4.54705038 0.02677886 3.79268724\n",
            " 2.20513158 4.08908433 3.28054473 1.54712483 3.01371109 4.49396025\n",
            " 3.15724384 0.02194368 2.86075767 1.68629367 3.54968325 3.14246539\n",
            " 0.21359434 1.48418703 1.18363597 2.33261957 3.17327884 3.96455067\n",
            " 1.54174701 2.83612449 0.9205298  2.21259071 3.2505024  1.4829518\n",
            " 3.54975955 2.10510203 4.80879655 1.73832417 2.36577576 1.35239904\n",
            " 4.00355638 1.46163404 1.38581236 2.17460813 1.66128728 3.21583688\n",
            " 0.31672786 4.16183546 0.19879823 4.27440787 4.65488897 3.01827564\n",
            " 1.44380715 3.24443828 1.73742414 3.99427454 2.23565231 1.2079014\n",
            " 3.78976116 0.01227128 1.13609717 4.18313419 1.54069184 1.42519325\n",
            " 2.13414645 2.42026278 4.35596393 1.33597464 2.8948093  0.96365096\n",
            " 0.31639025 2.04817434 4.92769984 0.26828411 4.83973703 0.93187901\n",
            " 3.23357165 0.84409059 1.47715047 2.88470407 3.84433895 0.86945083\n",
            " 1.03745407 3.77478974 1.48887628 4.80303955 2.65163022 3.35915122\n",
            " 1.06182261 2.47298252 0.86614109 3.90131411 1.47393113 3.53053682\n",
            " 4.50455188 0.0316254  3.01073884 2.03074836 4.35047166 4.86364569\n",
            " 4.20316443 0.52533552 3.34919776 1.3747991  1.70236789 4.27872381\n",
            " 4.79062267 4.37249677 0.46319806 1.07498415 3.6021272  2.88357701\n",
            " 3.23106966 0.38770237 4.27919839 3.35676218 4.9677636  4.23797282\n",
            " 3.61347483 1.75490719 4.20699178 1.0033123  1.17605776 4.63637486\n",
            " 1.80985402 3.74196075 0.89352498 0.55172844 1.29858033 0.67234866\n",
            " 3.79906736 1.24971904 0.17309421 1.91959314 2.3531667  1.29591809\n",
            " 0.38617679 1.53670526 4.29827581 0.2418615  2.04426385 3.96070411\n",
            " 2.20949263 0.08971856 3.65608165 2.93743113 3.06562568 4.29445019\n",
            " 1.96251347 3.76252603 3.08669761 3.80764364 3.93299446 1.68228933\n",
            " 4.3580383  1.68993894 3.36335654 3.91424778 4.32732644 4.57351837\n",
            " 3.89999909 1.77632021 1.34659175 2.48894478 1.36921748 3.7752249\n",
            " 0.86078552 0.29145302 3.7582804  0.61832301 3.14509473 4.46700337\n",
            " 4.59426816 3.30032145 2.55819064 0.01749535]\n"
          ]
        }
      ]
    },
    {
      "cell_type": "code",
      "source": [
        "#Histogram\n",
        "import numpy\n",
        "import matplotlib.pyplot as plt\n",
        "\n",
        "x = numpy.random.uniform(0.0, 5.0, 250)\n",
        "\n",
        "plt.hist(x, 5)\n",
        "plt.show()"
      ],
      "metadata": {
        "colab": {
          "base_uri": "https://localhost:8080/",
          "height": 265
        },
        "id": "3yDrM_wsmAA6",
        "outputId": "8fa7ee9f-1b3f-4eee-b05c-3bbbb688ef27"
      },
      "execution_count": null,
      "outputs": [
        {
          "output_type": "display_data",
          "data": {
            "image/png": "[encoded data removed]",
            "text/plain": [
              "<Figure size 432x288 with 1 Axes>"
            ]
          },
          "metadata": {
            "needs_background": "light"
          }
        }
      ]
    },
    {
      "cell_type": "code",
      "source": [
        "#Big data Distributions\n",
        "import numpy\n",
        "import matplotlib.pyplot as plt\n",
        "\n",
        "x = numpy.random.uniform(0.0, 5.0, 100000)\n",
        "\n",
        "plt.hist(x, 100)\n",
        "plt.show()"
      ],
      "metadata": {
        "colab": {
          "base_uri": "https://localhost:8080/",
          "height": 265
        },
        "id": "vZyzv0r7mGIr",
        "outputId": "357b98b9-4f93-4c00-b4a3-5778f09543d2"
      },
      "execution_count": null,
      "outputs": [
        {
          "output_type": "display_data",
          "data": {
            "image/png": "[encoded data removed]",
            "text/plain": [
              "<Figure size 432x288 with 1 Axes>"
            ]
          },
          "metadata": {
            "needs_background": "light"
          }
        }
      ]
    },
    {
      "cell_type": "code",
      "source": [
        "#Normal data distribution\n",
        "import numpy\n",
        "import matplotlib.pyplot as plt\n",
        "\n",
        "x = numpy.random.normal(5.0, 1.0, 100000)\n",
        "\n",
        "plt.hist(x, 100)\n",
        "plt.show()"
      ],
      "metadata": {
        "id": "e3zqEuygnI-b",
        "colab": {
          "base_uri": "https://localhost:8080/",
          "height": 265
        },
        "outputId": "f2d953af-9ac7-4098-b61c-6ce22c910bc4"
      },
      "execution_count": null,
      "outputs": [
        {
          "output_type": "display_data",
          "data": {
            "image/png": "[encoded data removed]",
            "text/plain": [
              "<Figure size 432x288 with 1 Axes>"
            ]
          },
          "metadata": {
            "needs_background": "light"
          }
        }
      ]
    },
    {
      "cell_type": "code",
      "source": [
        "#Scatter plot\n",
        "import matplotlib.pyplot as plt\n",
        "\n",
        "x = [5,7,8,7,2,17,2,9,4,11,12,9,6]\n",
        "y = [99,86,87,88,111,86,103,87,94,78,77,85,86]\n",
        "\n",
        "plt.scatter(x, y)\n",
        "plt.show()"
      ],
      "metadata": {
        "colab": {
          "base_uri": "https://localhost:8080/",
          "height": 265
        },
        "id": "czmjXvEVokMt",
        "outputId": "5a7ce101-310f-4a74-cc8e-f4fef7082ce0"
      },
      "execution_count": null,
      "outputs": [
        {
          "output_type": "display_data",
          "data": {
            "image/png": "[encoded data removed]",
            "text/plain": [
              "<Figure size 432x288 with 1 Axes>"
            ]
          },
          "metadata": {
            "needs_background": "light"
          }
        }
      ]
    },
    {
      "cell_type": "code",
      "source": [
        "#Scatter plot with random data distribution \n",
        "import numpy\n",
        "import matplotlib.pyplot as plt\n",
        "\n",
        "x = numpy.random.normal(5.0, 1.0, 1000)\n",
        "y = numpy.random.normal(10.0, 2.0, 1000)\n",
        "\n",
        "plt.scatter(x, y)\n",
        "plt.show()"
      ],
      "metadata": {
        "colab": {
          "base_uri": "https://localhost:8080/",
          "height": 265
        },
        "id": "n8ivUuBercQf",
        "outputId": "dfdca6c1-9312-4ea7-f72c-f50648deb092"
      },
      "execution_count": null,
      "outputs": [
        {
          "output_type": "display_data",
          "data": {
            "image/png": "[encoded data removed]",
            "text/plain": [
              "<Figure size 432x288 with 1 Axes>"
            ]
          },
          "metadata": {
            "needs_background": "light"
          }
        }
      ]
    },
    {
      "cell_type": "code",
      "source": [
        "#Linear regression\n",
        "import matplotlib.pyplot as plt\n",
        "from scipy import stats\n",
        "\n",
        "x = [5,7,8,7,2,17,2,9,4,11,12,9,6]\n",
        "y = [99,86,87,88,111,86,103,87,94,78,77,85,86]\n",
        "\n",
        "slope, intercept, r, p, std_err = stats.linregress(x, y)\n",
        "\n",
        "def myfunc(x):\n",
        "  return slope * x + intercept\n",
        "\n",
        "mymodel = list(map(myfunc, x))\n",
        "\n",
        "plt.scatter(x, y)\n",
        "plt.plot(x, mymodel)\n",
        "plt.show()"
      ],
      "metadata": {
        "colab": {
          "base_uri": "https://localhost:8080/",
          "height": 265
        },
        "id": "UpooXI82rqli",
        "outputId": "842f2fca-142c-45d7-f388-2443fbf1ae73"
      },
      "execution_count": null,
      "outputs": [
        {
          "output_type": "display_data",
          "data": {
            "image/png": "[encoded data removed]",
            "text/plain": [
              "<Figure size 432x288 with 1 Axes>"
            ]
          },
          "metadata": {
            "needs_background": "light"
          }
        }
      ]
    },
    {
      "cell_type": "code",
      "source": [
        "#Predict Future Values\n",
        "from scipy import stats\n",
        "\n",
        "x = [5,7,8,7,2,17,2,9,4,11,12,9,6]\n",
        "y = [99,86,87,88,111,86,103,87,94,78,77,85,86]\n",
        "\n",
        "slope, intercept, r, p, std_err = stats.linregress(x, y)\n",
        "\n",
        "def myfunc(x):\n",
        "  return slope * x + intercept\n",
        "\n",
        "speed = myfunc(10)\n",
        "\n",
        "print(speed)"
      ],
      "metadata": {
        "colab": {
          "base_uri": "https://localhost:8080/"
        },
        "id": "4PdjpUPLr84k",
        "outputId": "0bf2bebf-2b3d-412e-fc4b-4c7c0e047f05"
      },
      "execution_count": null,
      "outputs": [
        {
          "output_type": "stream",
          "name": "stdout",
          "text": [
            "85.59308314937454\n"
          ]
        }
      ]
    },
    {
      "cell_type": "code",
      "source": [
        "#Polynomial regression\n",
        "import numpy\n",
        "import matplotlib.pyplot as plt\n",
        "\n",
        "x = [1,2,3,5,6,7,8,9,10,12,13,14,15,16,18,19,21,22]\n",
        "y = [100,90,80,60,60,55,60,65,70,70,75,76,78,79,90,99,99,100]\n",
        "\n",
        "mymodel = numpy.poly1d(numpy.polyfit(x, y, 3))\n",
        "\n",
        "myline = numpy.linspace(1, 22, 100)\n",
        "\n",
        "plt.scatter(x, y)\n",
        "plt.plot(myline, mymodel(myline))\n",
        "plt.show()"
      ],
      "metadata": {
        "colab": {
          "base_uri": "https://localhost:8080/",
          "height": 265
        },
        "id": "QJUgU5wosQ9m",
        "outputId": "baed62aa-f907-4b7e-90aa-1eb1369cd265"
      },
      "execution_count": null,
      "outputs": [
        {
          "output_type": "display_data",
          "data": {
            "image/png": "[encoded data removed]",
            "text/plain": [
              "<Figure size 432x288 with 1 Axes>"
            ]
          },
          "metadata": {
            "needs_background": "light"
          }
        }
      ]
    },
    {
      "cell_type": "code",
      "source": [
        "#R-squared polynomial\n",
        "import numpy\n",
        "from sklearn.metrics import r2_score\n",
        "\n",
        "x = [1,2,3,5,6,7,8,9,10,12,13,14,15,16,18,19,21,22]\n",
        "y = [100,90,80,60,60,55,60,65,70,70,75,76,78,79,90,99,99,100]\n",
        "\n",
        "mymodel = numpy.poly1d(numpy.polyfit(x, y, 3))\n",
        "\n",
        "print(r2_score(y, mymodel(x)))"
      ],
      "metadata": {
        "colab": {
          "base_uri": "https://localhost:8080/"
        },
        "id": "nIgBTUoesumq",
        "outputId": "20048d60-7b42-4428-e3b9-3712b4159d03"
      },
      "execution_count": null,
      "outputs": [
        {
          "output_type": "stream",
          "name": "stdout",
          "text": [
            "0.9432150416451026\n"
          ]
        }
      ]
    },
    {
      "cell_type": "code",
      "source": [
        "#Predict future value\n",
        "import numpy\n",
        "from sklearn.metrics import r2_score\n",
        "\n",
        "x = [1,2,3,5,6,7,8,9,10,12,13,14,15,16,18,19,21,22]\n",
        "y = [100,90,80,60,60,55,60,65,70,70,75,76,78,79,90,99,99,100]\n",
        "\n",
        "mymodel = numpy.poly1d(numpy.polyfit(x, y, 3))\n",
        "\n",
        "speed = mymodel(17)\n",
        "print(speed)"
      ],
      "metadata": {
        "colab": {
          "base_uri": "https://localhost:8080/"
        },
        "id": "oGensITgs2Qm",
        "outputId": "e439a132-848b-4c0f-aff9-67efd6542cc3"
      },
      "execution_count": null,
      "outputs": [
        {
          "output_type": "stream",
          "name": "stdout",
          "text": [
            "88.87331269697997\n"
          ]
        }
      ]
    },
    {
      "cell_type": "code",
      "source": [
        "#Multiple Regression\n",
        "import pandas as pd\n",
        "from sklearn import linear_model\n",
        "\n",
        "df = pd.read_csv('cars.csv')\n",
        "\n",
        "X = df[['Weight', 'Volume']]\n",
        "y = df['CO2']\n",
        "\n",
        "regr = linear_model.LinearRegression()\n",
        "regr.fit(X, y)\n",
        "\n",
        "#predict the CO2 emission of a car where the weight is 2300kg, and the volume is 1300cm3:\n",
        "predictedCO2 = regr.predict([[2300, 1300]])\n",
        "\n",
        "print(predictedCO2)"
      ],
      "metadata": {
        "colab": {
          "base_uri": "https://localhost:8080/"
        },
        "id": "5XVwZv1Ys8U0",
        "outputId": "091d1674-f9c5-40eb-b83b-f48bf65e882d"
      },
      "execution_count": null,
      "outputs": [
        {
          "output_type": "stream",
          "name": "stdout",
          "text": [
            "[107.2087328]\n"
          ]
        },
        {
          "output_type": "stream",
          "name": "stderr",
          "text": [
            "/usr/local/lib/python3.7/dist-packages/sklearn/base.py:446: UserWarning: X does not have valid feature names, but LinearRegression was fitted with feature names\n",
            "  \"X does not have valid feature names, but\"\n"
          ]
        }
      ]
    },
    {
      "cell_type": "code",
      "source": [
        "#Coefficient\n",
        "import pandas\n",
        "from sklearn import linear_model\n",
        "\n",
        "df = pandas.read_csv(\"cars.csv\")\n",
        "\n",
        "X = df[['Weight', 'Volume']]\n",
        "y = df['CO2']\n",
        "\n",
        "regr = linear_model.LinearRegression()\n",
        "regr.fit(X, y)\n",
        "\n",
        "print(regr.coef_)"
      ],
      "metadata": {
        "colab": {
          "base_uri": "https://localhost:8080/"
        },
        "id": "Tfxy-fpftK69",
        "outputId": "9b8b97cd-1e2a-496f-e93a-f51773d9eafa"
      },
      "execution_count": null,
      "outputs": [
        {
          "output_type": "stream",
          "name": "stdout",
          "text": [
            "[0.00755095 0.00780526]\n"
          ]
        }
      ]
    },
    {
      "cell_type": "code",
      "source": [
        ""
      ],
      "metadata": {
        "id": "L-SIN0ethzhD"
      },
      "execution_count": null,
      "outputs": []
    }
  ]
}